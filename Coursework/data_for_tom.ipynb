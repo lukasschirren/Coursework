{
 "cells": [
  {
   "cell_type": "code",
   "execution_count": 95,
   "metadata": {},
   "outputs": [],
   "source": [
    "import os\n",
    "import pandas as pd\n",
    "import numpy as np\n",
    "import matplotlib.pyplot as plt\n",
    "\n",
    "import plotly.express as px\n",
    "import plotly.graph_objects as go\n",
    "from plotly.subplots import make_subplots\n",
    "\n",
    "import scipy.stats as stats\n",
    "import numpy as np\n",
    "import matplotlib.pyplot as plt\n",
    "from scipy.stats import weibull_min\n",
    "import scipy\n",
    "\n",
    "from fitter import Fitter, get_common_distributions, get_distributions"
   ]
  },
  {
   "cell_type": "code",
   "execution_count": 96,
   "metadata": {},
   "outputs": [
    {
     "data": {
      "text/html": [
       "<div>\n",
       "<style scoped>\n",
       "    .dataframe tbody tr th:only-of-type {\n",
       "        vertical-align: middle;\n",
       "    }\n",
       "\n",
       "    .dataframe tbody tr th {\n",
       "        vertical-align: top;\n",
       "    }\n",
       "\n",
       "    .dataframe thead th {\n",
       "        text-align: right;\n",
       "    }\n",
       "</style>\n",
       "<table border=\"1\" class=\"dataframe\">\n",
       "  <thead>\n",
       "    <tr style=\"text-align: right;\">\n",
       "      <th></th>\n",
       "      <th>160</th>\n",
       "      <th>105</th>\n",
       "      <th>120</th>\n",
       "      <th>134</th>\n",
       "      <th>Mean Direction</th>\n",
       "    </tr>\n",
       "  </thead>\n",
       "  <tbody>\n",
       "    <tr>\n",
       "      <th>0</th>\n",
       "      <td>12.5</td>\n",
       "      <td>11.7</td>\n",
       "      <td>11.9</td>\n",
       "      <td>12.1</td>\n",
       "      <td>230.0</td>\n",
       "    </tr>\n",
       "    <tr>\n",
       "      <th>1</th>\n",
       "      <td>13.3</td>\n",
       "      <td>12.4</td>\n",
       "      <td>12.7</td>\n",
       "      <td>12.9</td>\n",
       "      <td>230.0</td>\n",
       "    </tr>\n",
       "    <tr>\n",
       "      <th>2</th>\n",
       "      <td>13.3</td>\n",
       "      <td>12.4</td>\n",
       "      <td>12.7</td>\n",
       "      <td>12.9</td>\n",
       "      <td>230.0</td>\n",
       "    </tr>\n",
       "    <tr>\n",
       "      <th>3</th>\n",
       "      <td>14.0</td>\n",
       "      <td>13.2</td>\n",
       "      <td>13.4</td>\n",
       "      <td>13.7</td>\n",
       "      <td>230.0</td>\n",
       "    </tr>\n",
       "    <tr>\n",
       "      <th>4</th>\n",
       "      <td>14.0</td>\n",
       "      <td>13.2</td>\n",
       "      <td>13.4</td>\n",
       "      <td>13.7</td>\n",
       "      <td>230.0</td>\n",
       "    </tr>\n",
       "    <tr>\n",
       "      <th>...</th>\n",
       "      <td>...</td>\n",
       "      <td>...</td>\n",
       "      <td>...</td>\n",
       "      <td>...</td>\n",
       "      <td>...</td>\n",
       "    </tr>\n",
       "    <tr>\n",
       "      <th>8728</th>\n",
       "      <td>17.8</td>\n",
       "      <td>16.8</td>\n",
       "      <td>17.2</td>\n",
       "      <td>17.5</td>\n",
       "      <td>250.0</td>\n",
       "    </tr>\n",
       "    <tr>\n",
       "      <th>8729</th>\n",
       "      <td>15.4</td>\n",
       "      <td>14.6</td>\n",
       "      <td>14.9</td>\n",
       "      <td>15.2</td>\n",
       "      <td>290.0</td>\n",
       "    </tr>\n",
       "    <tr>\n",
       "      <th>8730</th>\n",
       "      <td>13.1</td>\n",
       "      <td>12.4</td>\n",
       "      <td>12.7</td>\n",
       "      <td>12.9</td>\n",
       "      <td>310.0</td>\n",
       "    </tr>\n",
       "    <tr>\n",
       "      <th>8731</th>\n",
       "      <td>11.6</td>\n",
       "      <td>11.0</td>\n",
       "      <td>11.2</td>\n",
       "      <td>11.4</td>\n",
       "      <td>310.0</td>\n",
       "    </tr>\n",
       "    <tr>\n",
       "      <th>8732</th>\n",
       "      <td>12.4</td>\n",
       "      <td>11.7</td>\n",
       "      <td>11.9</td>\n",
       "      <td>12.1</td>\n",
       "      <td>310.0</td>\n",
       "    </tr>\n",
       "  </tbody>\n",
       "</table>\n",
       "<p>8733 rows × 5 columns</p>\n",
       "</div>"
      ],
      "text/plain": [
       "       160   105   120   134  Mean Direction\n",
       "0     12.5  11.7  11.9  12.1           230.0\n",
       "1     13.3  12.4  12.7  12.9           230.0\n",
       "2     13.3  12.4  12.7  12.9           230.0\n",
       "3     14.0  13.2  13.4  13.7           230.0\n",
       "4     14.0  13.2  13.4  13.7           230.0\n",
       "...    ...   ...   ...   ...             ...\n",
       "8728  17.8  16.8  17.2  17.5           250.0\n",
       "8729  15.4  14.6  14.9  15.2           290.0\n",
       "8730  13.1  12.4  12.7  12.9           310.0\n",
       "8731  11.6  11.0  11.2  11.4           310.0\n",
       "8732  12.4  11.7  11.9  12.1           310.0\n",
       "\n",
       "[8733 rows x 5 columns]"
      ]
     },
     "execution_count": 96,
     "metadata": {},
     "output_type": "execute_result"
    }
   ],
   "source": [
    "dic = os.getcwd() + \"/layout_data.xlsx\"\n",
    "\n",
    "wind_data = pd.read_excel(dic)\n",
    "wind_data.rename(columns={'Speed at hh - 160':'160','Speed at hh - 105':'105','Speed at hh - 120':'120','Speed at hh - 134':'134'},inplace=True)\n",
    "wind_data.dropna(inplace=True)\n",
    "wind_data.reset_index(inplace=True)\n",
    "wind_data.drop(columns={'index'},inplace=True)\n",
    "wind_data"
   ]
  },
  {
   "cell_type": "code",
   "execution_count": 97,
   "metadata": {},
   "outputs": [],
   "source": [
    "#wind_data.drop(wind_data[wind_data['160'] == 0].index,inplace=True)\n",
    "#wind_data.reset_index(inplace=True)"
   ]
  },
  {
   "cell_type": "code",
   "execution_count": 98,
   "metadata": {},
   "outputs": [
    {
     "data": {
      "text/plain": [
       "'105'"
      ]
     },
     "execution_count": 98,
     "metadata": {},
     "output_type": "execute_result"
    }
   ],
   "source": [
    "columns = wind_data.columns.array\n",
    "arr_height = columns[[1,2,3,4]]"
   ]
  },
  {
   "cell_type": "code",
   "execution_count": 99,
   "metadata": {},
   "outputs": [],
   "source": [
    "arr_shape = np.ndarray(shape=(4,8))\n",
    "\n",
    "arr_scale =  np.ndarray(shape=(4,8))"
   ]
  },
  {
   "cell_type": "code",
   "execution_count": 100,
   "metadata": {},
   "outputs": [],
   "source": [
    "i = 0\n",
    "for height in arr_height:\n",
    "        \n",
    "        # 1/8, bins=35\n",
    "        df = wind_data[((wind_data['Mean Direction']<22.5))]\n",
    "        df_2 = wind_data[(wind_data['Mean Direction'] > 337.5)]\n",
    "\n",
    "        wind_np_1 = df[height].to_numpy()\n",
    "        wind_np_2 = df_2[height].to_numpy()\n",
    "        wind_np = np.append(wind_np_1,wind_np_2)\n",
    "\n",
    "        f = Fitter(wind_np, distributions=['weibull_min'],bins=35)\n",
    "        f.fit()\n",
    "        arr_scale[i][0] = f.fitted_param['weibull_min'][0]\n",
    "        arr_shape[i][0] = f.fitted_param['weibull_min'][2]\n",
    "\n",
    "        # 2/8, bins=24\n",
    "        df = wind_data[(wind_data['Mean Direction'] >22.5) & (wind_data['Mean Direction'] <=67.5)]\n",
    "        wind_np = df[height].to_numpy()\n",
    "\n",
    "        f = Fitter(wind_np, distributions=['weibull_min'],bins=24)\n",
    "        f.fit()\n",
    "        arr_scale[i][1] = f.fitted_param['weibull_min'][0]\n",
    "        arr_shape[i][1] = f.fitted_param['weibull_min'][2]\n",
    "\n",
    "        # 3/8, bins=21 # 67.5 - 112.5\n",
    "        df = wind_data[(wind_data['Mean Direction'] >67.5) & (wind_data['Mean Direction'] <=112.5)]\n",
    "        wind_np = df[height].to_numpy()\n",
    "\n",
    "        f = Fitter(wind_np, distributions=['weibull_min'],bins=21)\n",
    "        f.fit()\n",
    "        arr_scale[i][2] = f.fitted_param['weibull_min'][0]\n",
    "        arr_shape[i][2] = f.fitted_param['weibull_min'][2]\n",
    "\n",
    "        # 4/8, bins=20 # 112.5 - 157.5\n",
    "        df = wind_data[(wind_data['Mean Direction'] >112.5) & (wind_data['Mean Direction'] <=157.5)]\n",
    "        wind_np = df[height].to_numpy()\n",
    "\n",
    "        f = Fitter(wind_np, distributions=['weibull_min'],bins=20)\n",
    "        f.fit()\n",
    "        arr_scale[i][3] = f.fitted_param['weibull_min'][0]\n",
    "        arr_shape[i][3] = f.fitted_param['weibull_min'][2]\n",
    "\n",
    "        # 5/8, bins= 20 # 157.5 - 202.5\n",
    "        df = wind_data[(wind_data['Mean Direction'] >157.5) & (wind_data['Mean Direction'] <=202.5)]\n",
    "        wind_np = df[height].to_numpy()\n",
    "\n",
    "        f = Fitter(wind_np, distributions=['weibull_min'],bins=20)\n",
    "        f.fit()\n",
    "        arr_scale[i][4] = f.fitted_param['weibull_min'][0]\n",
    "        arr_shape[i][4] = f.fitted_param['weibull_min'][2]\n",
    "\n",
    "        # 6/8,bins=20 # 202.5 - 247.5\n",
    "        df = wind_data[(wind_data['Mean Direction'] >202.5) & (wind_data['Mean Direction'] <=247.5)]\n",
    "        wind_np = df[height].to_numpy()\n",
    "\n",
    "        f = Fitter(wind_np, distributions=['weibull_min'],bins=20)\n",
    "        f.fit()\n",
    "        arr_scale[i][5] = f.fitted_param['weibull_min'][0]\n",
    "        arr_shape[i][5] = f.fitted_param['weibull_min'][2]\n",
    "        \n",
    "        #  7/8,bins=42 # 247.5 - 292.5\n",
    "        df = wind_data[(wind_data['Mean Direction'] >247.5) & (wind_data['Mean Direction'] <=292.5)]\n",
    "        wind_np = df[height].to_numpy()\n",
    "\n",
    "        f = Fitter(wind_np, distributions=['weibull_min'],bins=42)\n",
    "        f.fit()\n",
    "        arr_scale[i][6] = f.fitted_param['weibull_min'][0]\n",
    "        arr_shape[i][6] = f.fitted_param['weibull_min'][2]\n",
    "\n",
    "        # 8/8, bins=30 # \n",
    "        df = wind_data[(wind_data['Mean Direction'] >292.5) & (wind_data['Mean Direction'] <=337.5)]\n",
    "        wind_np = df[height].to_numpy()\n",
    "\n",
    "        f = Fitter(wind_np, distributions=['weibull_min'],bins=30)\n",
    "        f.fit()\n",
    "        arr_scale[i][7] = f.fitted_param['weibull_min'][0]\n",
    "        arr_shape[i][7] = f.fitted_param['weibull_min'][2]\n",
    "\n",
    "        i=i+1"
   ]
  },
  {
   "cell_type": "code",
   "execution_count": 101,
   "metadata": {},
   "outputs": [
    {
     "data": {
      "text/plain": [
       "<NumpyExtensionArray>\n",
       "['105', '120', '134', 'Mean Direction']\n",
       "Length: 4, dtype: object"
      ]
     },
     "execution_count": 101,
     "metadata": {},
     "output_type": "execute_result"
    }
   ],
   "source": [
    "arr_height"
   ]
  },
  {
   "cell_type": "code",
   "execution_count": 102,
   "metadata": {},
   "outputs": [
    {
     "data": {
      "text/plain": [
       "array([[3.92121946e-01, 1.94889903e+00, 1.20786851e+00, 1.35592443e+00,\n",
       "        2.93133805e+00, 2.29210661e+00, 2.00461918e+00, 1.71882566e+00],\n",
       "       [2.95497141e-01, 1.94379540e+00, 1.21150870e+00, 1.34817449e+00,\n",
       "        2.93869639e+00, 2.29808800e+00, 2.00675576e+00, 1.72250535e+00],\n",
       "       [2.95332333e-01, 1.91446417e+00, 1.23353366e+00, 1.31454037e+00,\n",
       "        2.92995831e+00, 2.28945118e+00, 1.99018300e+00, 1.73384782e+00],\n",
       "       [5.97073335e-01, 5.05534606e+01, 2.52881099e-01, 6.71417823e+00,\n",
       "        1.59188532e+07, 1.57966673e-01, 8.33225582e-01, 7.57076615e-01]])"
      ]
     },
     "execution_count": 102,
     "metadata": {},
     "output_type": "execute_result"
    }
   ],
   "source": [
    "arr_scale"
   ]
  },
  {
   "cell_type": "code",
   "execution_count": 103,
   "metadata": {},
   "outputs": [
    {
     "data": {
      "text/plain": [
       "array([[7.90580189e-01, 7.40325048e+00, 3.96014434e+00, 5.49453262e+00,\n",
       "        1.66388730e+01, 1.35633490e+01, 1.10289047e+01, 7.61278307e+00],\n",
       "       [1.35106671e+00, 7.55726665e+00, 4.06287200e+00, 5.59721331e+00,\n",
       "        1.70268656e+01, 1.38806991e+01, 1.12803292e+01, 7.79636699e+00],\n",
       "       [1.37307509e+00, 7.55943584e+00, 4.19680339e+00, 5.55732389e+00,\n",
       "        1.72479706e+01, 1.40567206e+01, 1.13685356e+01, 7.96510521e+00],\n",
       "       [1.82029111e+02, 4.83799253e+02, 2.07409832e+01, 6.76282397e+01,\n",
       "        1.50263579e+08, 9.90614578e+00, 1.93797057e+01, 1.64789570e+01]])"
      ]
     },
     "execution_count": 103,
     "metadata": {},
     "output_type": "execute_result"
    }
   ],
   "source": [
    "arr_shape"
   ]
  },
  {
   "cell_type": "markdown",
   "metadata": {},
   "source": [
    "## Output"
   ]
  },
  {
   "cell_type": "code",
   "execution_count": 86,
   "metadata": {},
   "outputs": [],
   "source": [
    "\n",
    "        # 0: '160', 1:'105', 2:'120', 3:'134'\n",
    "        # arr_scale[0] acceses therefore turbine with height 60.\n",
    "        arr_scale = [[3.92121946e-01, 1.94889903e+00, 1.20786851e+00, 1.35592443e+00,\n",
    "        2.93133805e+00, 2.29210661e+00, 2.00461918e+00, 1.71882566e+00],\n",
    "       [2.95497141e-01, 1.94379540e+00, 1.21150870e+00, 1.34817449e+00,\n",
    "        2.93869639e+00, 2.29808800e+00, 2.00675576e+00, 1.72250535e+00],\n",
    "       [2.95332333e-01, 1.91446417e+00, 1.23353366e+00, 1.31454037e+00,\n",
    "        2.92995831e+00, 2.28945118e+00, 1.99018300e+00, 1.73384782e+00],\n",
    "       [5.97073335e-01, 5.05534606e+01, 2.52881099e-01, 6.71417823e+00,\n",
    "        1.59188532e+07, 1.57966673e-01, 8.33225582e-01, 7.57076615e-01]]\n",
    "\n",
    "        arr_shape = [[7.90580189e-01, 7.40325048e+00, 3.96014434e+00, 5.49453262e+00,\n",
    "        1.66388730e+01, 1.35633490e+01, 1.10289047e+01, 7.61278307e+00],\n",
    "       [1.35106671e+00, 7.55726665e+00, 4.06287200e+00, 5.59721331e+00,\n",
    "        1.70268656e+01, 1.38806991e+01, 1.12803292e+01, 7.79636699e+00],\n",
    "       [1.37307509e+00, 7.55943584e+00, 4.19680339e+00, 5.55732389e+00,\n",
    "        1.72479706e+01, 1.40567206e+01, 1.13685356e+01, 7.96510521e+00],\n",
    "       [1.82029111e+02, 4.83799253e+02, 2.07409832e+01, 6.76282397e+01,\n",
    "        1.50263579e+08, 9.90614578e+00, 1.93797057e+01, 1.64789570e+01]]"
   ]
  },
  {
   "cell_type": "code",
   "execution_count": null,
   "metadata": {},
   "outputs": [],
   "source": []
  }
 ],
 "metadata": {
  "kernelspec": {
   "display_name": "Python 3",
   "language": "python",
   "name": "python3"
  },
  "language_info": {
   "codemirror_mode": {
    "name": "ipython",
    "version": 3
   },
   "file_extension": ".py",
   "mimetype": "text/x-python",
   "name": "python",
   "nbconvert_exporter": "python",
   "pygments_lexer": "ipython3",
   "version": "3.11.6"
  }
 },
 "nbformat": 4,
 "nbformat_minor": 2
}

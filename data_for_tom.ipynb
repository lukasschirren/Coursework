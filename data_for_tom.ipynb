{
 "cells": [
  {
   "cell_type": "code",
   "execution_count": 156,
   "metadata": {},
   "outputs": [],
   "source": [
    "import os\n",
    "import pandas as pd\n",
    "import numpy as np\n",
    "import matplotlib.pyplot as plt\n",
    "\n",
    "import plotly.express as px\n",
    "import plotly.graph_objects as go\n",
    "from plotly.subplots import make_subplots\n",
    "\n",
    "import scipy.stats as stats\n",
    "import numpy as np\n",
    "import matplotlib.pyplot as plt\n",
    "from scipy.stats import weibull_min\n",
    "import scipy\n",
    "\n",
    "from fitter import Fitter, get_common_distributions, get_distributions\n",
    "import seaborn as sns\n",
    "from cycler import cycler\n"
   ]
  },
  {
   "cell_type": "code",
   "execution_count": 157,
   "metadata": {},
   "outputs": [
    {
     "data": {
      "text/html": [
       "<div>\n",
       "<style scoped>\n",
       "    .dataframe tbody tr th:only-of-type {\n",
       "        vertical-align: middle;\n",
       "    }\n",
       "\n",
       "    .dataframe tbody tr th {\n",
       "        vertical-align: top;\n",
       "    }\n",
       "\n",
       "    .dataframe thead th {\n",
       "        text-align: right;\n",
       "    }\n",
       "</style>\n",
       "<table border=\"1\" class=\"dataframe\">\n",
       "  <thead>\n",
       "    <tr style=\"text-align: right;\">\n",
       "      <th></th>\n",
       "      <th>160</th>\n",
       "      <th>105</th>\n",
       "      <th>120</th>\n",
       "      <th>134</th>\n",
       "      <th>Mean Direction</th>\n",
       "    </tr>\n",
       "  </thead>\n",
       "  <tbody>\n",
       "    <tr>\n",
       "      <th>0</th>\n",
       "      <td>12.5</td>\n",
       "      <td>11.7</td>\n",
       "      <td>11.9</td>\n",
       "      <td>12.1</td>\n",
       "      <td>230.0</td>\n",
       "    </tr>\n",
       "    <tr>\n",
       "      <th>1</th>\n",
       "      <td>13.3</td>\n",
       "      <td>12.4</td>\n",
       "      <td>12.7</td>\n",
       "      <td>12.9</td>\n",
       "      <td>230.0</td>\n",
       "    </tr>\n",
       "    <tr>\n",
       "      <th>2</th>\n",
       "      <td>13.3</td>\n",
       "      <td>12.4</td>\n",
       "      <td>12.7</td>\n",
       "      <td>12.9</td>\n",
       "      <td>230.0</td>\n",
       "    </tr>\n",
       "    <tr>\n",
       "      <th>3</th>\n",
       "      <td>14.0</td>\n",
       "      <td>13.2</td>\n",
       "      <td>13.4</td>\n",
       "      <td>13.7</td>\n",
       "      <td>230.0</td>\n",
       "    </tr>\n",
       "    <tr>\n",
       "      <th>4</th>\n",
       "      <td>14.0</td>\n",
       "      <td>13.2</td>\n",
       "      <td>13.4</td>\n",
       "      <td>13.7</td>\n",
       "      <td>230.0</td>\n",
       "    </tr>\n",
       "    <tr>\n",
       "      <th>...</th>\n",
       "      <td>...</td>\n",
       "      <td>...</td>\n",
       "      <td>...</td>\n",
       "      <td>...</td>\n",
       "      <td>...</td>\n",
       "    </tr>\n",
       "    <tr>\n",
       "      <th>8728</th>\n",
       "      <td>17.8</td>\n",
       "      <td>16.8</td>\n",
       "      <td>17.2</td>\n",
       "      <td>17.5</td>\n",
       "      <td>250.0</td>\n",
       "    </tr>\n",
       "    <tr>\n",
       "      <th>8729</th>\n",
       "      <td>15.4</td>\n",
       "      <td>14.6</td>\n",
       "      <td>14.9</td>\n",
       "      <td>15.2</td>\n",
       "      <td>290.0</td>\n",
       "    </tr>\n",
       "    <tr>\n",
       "      <th>8730</th>\n",
       "      <td>13.1</td>\n",
       "      <td>12.4</td>\n",
       "      <td>12.7</td>\n",
       "      <td>12.9</td>\n",
       "      <td>310.0</td>\n",
       "    </tr>\n",
       "    <tr>\n",
       "      <th>8731</th>\n",
       "      <td>11.6</td>\n",
       "      <td>11.0</td>\n",
       "      <td>11.2</td>\n",
       "      <td>11.4</td>\n",
       "      <td>310.0</td>\n",
       "    </tr>\n",
       "    <tr>\n",
       "      <th>8732</th>\n",
       "      <td>12.4</td>\n",
       "      <td>11.7</td>\n",
       "      <td>11.9</td>\n",
       "      <td>12.1</td>\n",
       "      <td>310.0</td>\n",
       "    </tr>\n",
       "  </tbody>\n",
       "</table>\n",
       "<p>8733 rows × 5 columns</p>\n",
       "</div>"
      ],
      "text/plain": [
       "       160   105   120   134  Mean Direction\n",
       "0     12.5  11.7  11.9  12.1           230.0\n",
       "1     13.3  12.4  12.7  12.9           230.0\n",
       "2     13.3  12.4  12.7  12.9           230.0\n",
       "3     14.0  13.2  13.4  13.7           230.0\n",
       "4     14.0  13.2  13.4  13.7           230.0\n",
       "...    ...   ...   ...   ...             ...\n",
       "8728  17.8  16.8  17.2  17.5           250.0\n",
       "8729  15.4  14.6  14.9  15.2           290.0\n",
       "8730  13.1  12.4  12.7  12.9           310.0\n",
       "8731  11.6  11.0  11.2  11.4           310.0\n",
       "8732  12.4  11.7  11.9  12.1           310.0\n",
       "\n",
       "[8733 rows x 5 columns]"
      ]
     },
     "execution_count": 157,
     "metadata": {},
     "output_type": "execute_result"
    }
   ],
   "source": [
    "dic = os.getcwd() + \"/data/layout_data.xlsx\"\n",
    "\n",
    "wind_data = pd.read_excel(dic)\n",
    "wind_data.rename(columns={'Speed at hh - 160':'160','Speed at hh - 105':'105','Speed at hh - 120':'120','Speed at hh - 134':'134'},inplace=True)\n",
    "wind_data.dropna(inplace=True)\n",
    "wind_data.reset_index(inplace=True)\n",
    "wind_data.drop(columns={'index'},inplace=True)\n",
    "wind_data"
   ]
  },
  {
   "cell_type": "code",
   "execution_count": 158,
   "metadata": {},
   "outputs": [
    {
     "data": {
      "text/plain": [
       "45.75"
      ]
     },
     "execution_count": 158,
     "metadata": {},
     "output_type": "execute_result"
    }
   ],
   "source": [
    "np.count_nonzero(wind_data[wind_data['160'] == 0].index)\n",
    "\n",
    "366/8"
   ]
  },
  {
   "cell_type": "code",
   "execution_count": 159,
   "metadata": {},
   "outputs": [],
   "source": [
    "wind_data.drop(wind_data[wind_data['160'] == 0].index,inplace=True)\n",
    "wind_data.reset_index(inplace=True)\n",
    "wind_data.drop(columns={'index'},inplace=True)"
   ]
  },
  {
   "cell_type": "code",
   "execution_count": 160,
   "metadata": {},
   "outputs": [
    {
     "data": {
      "text/plain": [
       "0"
      ]
     },
     "execution_count": 160,
     "metadata": {},
     "output_type": "execute_result"
    }
   ],
   "source": [
    "np.count_nonzero(wind_data[wind_data['160'] == 0].index)"
   ]
  },
  {
   "cell_type": "code",
   "execution_count": 172,
   "metadata": {},
   "outputs": [
    {
     "data": {
      "text/plain": [
       "72"
      ]
     },
     "execution_count": 172,
     "metadata": {},
     "output_type": "execute_result"
    }
   ],
   "source": [
    "int(366*0.199)"
   ]
  },
  {
   "cell_type": "code",
   "execution_count": 173,
   "metadata": {},
   "outputs": [
    {
     "data": {
      "text/html": [
       "<div>\n",
       "<style scoped>\n",
       "    .dataframe tbody tr th:only-of-type {\n",
       "        vertical-align: middle;\n",
       "    }\n",
       "\n",
       "    .dataframe tbody tr th {\n",
       "        vertical-align: top;\n",
       "    }\n",
       "\n",
       "    .dataframe thead th {\n",
       "        text-align: right;\n",
       "    }\n",
       "</style>\n",
       "<table border=\"1\" class=\"dataframe\">\n",
       "  <thead>\n",
       "    <tr style=\"text-align: right;\">\n",
       "      <th></th>\n",
       "      <th>160</th>\n",
       "      <th>105</th>\n",
       "      <th>120</th>\n",
       "      <th>134</th>\n",
       "      <th>Mean Direction</th>\n",
       "    </tr>\n",
       "  </thead>\n",
       "  <tbody>\n",
       "    <tr>\n",
       "      <th>0</th>\n",
       "      <td>12.5</td>\n",
       "      <td>11.7</td>\n",
       "      <td>11.9</td>\n",
       "      <td>12.1</td>\n",
       "      <td>230.0</td>\n",
       "    </tr>\n",
       "    <tr>\n",
       "      <th>1</th>\n",
       "      <td>13.3</td>\n",
       "      <td>12.4</td>\n",
       "      <td>12.7</td>\n",
       "      <td>12.9</td>\n",
       "      <td>230.0</td>\n",
       "    </tr>\n",
       "    <tr>\n",
       "      <th>2</th>\n",
       "      <td>13.3</td>\n",
       "      <td>12.4</td>\n",
       "      <td>12.7</td>\n",
       "      <td>12.9</td>\n",
       "      <td>230.0</td>\n",
       "    </tr>\n",
       "    <tr>\n",
       "      <th>3</th>\n",
       "      <td>14.0</td>\n",
       "      <td>13.2</td>\n",
       "      <td>13.4</td>\n",
       "      <td>13.7</td>\n",
       "      <td>230.0</td>\n",
       "    </tr>\n",
       "    <tr>\n",
       "      <th>4</th>\n",
       "      <td>14.0</td>\n",
       "      <td>13.2</td>\n",
       "      <td>13.4</td>\n",
       "      <td>13.7</td>\n",
       "      <td>230.0</td>\n",
       "    </tr>\n",
       "    <tr>\n",
       "      <th>...</th>\n",
       "      <td>...</td>\n",
       "      <td>...</td>\n",
       "      <td>...</td>\n",
       "      <td>...</td>\n",
       "      <td>...</td>\n",
       "    </tr>\n",
       "    <tr>\n",
       "      <th>9085</th>\n",
       "      <td>0.0</td>\n",
       "      <td>0.0</td>\n",
       "      <td>0.0</td>\n",
       "      <td>0.0</td>\n",
       "      <td>310.0</td>\n",
       "    </tr>\n",
       "    <tr>\n",
       "      <th>9086</th>\n",
       "      <td>0.0</td>\n",
       "      <td>0.0</td>\n",
       "      <td>0.0</td>\n",
       "      <td>0.0</td>\n",
       "      <td>310.0</td>\n",
       "    </tr>\n",
       "    <tr>\n",
       "      <th>9087</th>\n",
       "      <td>0.0</td>\n",
       "      <td>0.0</td>\n",
       "      <td>0.0</td>\n",
       "      <td>0.0</td>\n",
       "      <td>310.0</td>\n",
       "    </tr>\n",
       "    <tr>\n",
       "      <th>9088</th>\n",
       "      <td>0.0</td>\n",
       "      <td>0.0</td>\n",
       "      <td>0.0</td>\n",
       "      <td>0.0</td>\n",
       "      <td>310.0</td>\n",
       "    </tr>\n",
       "    <tr>\n",
       "      <th>9089</th>\n",
       "      <td>0.0</td>\n",
       "      <td>0.0</td>\n",
       "      <td>0.0</td>\n",
       "      <td>0.0</td>\n",
       "      <td>310.0</td>\n",
       "    </tr>\n",
       "  </tbody>\n",
       "</table>\n",
       "<p>9090 rows × 5 columns</p>\n",
       "</div>"
      ],
      "text/plain": [
       "       160   105   120   134  Mean Direction\n",
       "0     12.5  11.7  11.9  12.1           230.0\n",
       "1     13.3  12.4  12.7  12.9           230.0\n",
       "2     13.3  12.4  12.7  12.9           230.0\n",
       "3     14.0  13.2  13.4  13.7           230.0\n",
       "4     14.0  13.2  13.4  13.7           230.0\n",
       "...    ...   ...   ...   ...             ...\n",
       "9085   0.0   0.0   0.0   0.0           310.0\n",
       "9086   0.0   0.0   0.0   0.0           310.0\n",
       "9087   0.0   0.0   0.0   0.0           310.0\n",
       "9088   0.0   0.0   0.0   0.0           310.0\n",
       "9089   0.0   0.0   0.0   0.0           310.0\n",
       "\n",
       "[9090 rows x 5 columns]"
      ]
     },
     "execution_count": 173,
     "metadata": {},
     "output_type": "execute_result"
    }
   ],
   "source": [
    "# 1/8\n",
    "k1 = int(366*0.199)\n",
    "x = np.zeros(shape=[k1,5])\n",
    "x[0:,4] = 0\n",
    "test = pd.DataFrame(data=x[0:,0:],index=range(0,k1),columns=wind_data.columns.array)\n",
    "\n",
    "wind_data = wind_data._append(test)\n",
    "wind_data.reset_index(inplace=True)\n",
    "wind_data.drop(columns={'index'},inplace=True)\n",
    "\n",
    "#2/8\n",
    "k2 = int(366*0.0909)\n",
    "x = np.zeros(shape=[k2,5])\n",
    "x[0:,4] = 30\n",
    "test = pd.DataFrame(data=x[0:,0:],index=range(0,k2),columns=wind_data.columns.array)\n",
    "\n",
    "wind_data = wind_data._append(test)\n",
    "wind_data.reset_index(inplace=True)\n",
    "wind_data.drop(columns={'index'},inplace=True)\n",
    "\n",
    "#3/8\n",
    "k3 = int(366*0.0783)\n",
    "x = np.zeros(shape=[k3,5])\n",
    "x[0:,4] = 80\n",
    "test = pd.DataFrame(data=x[0:,0:],index=range(0,k3),columns=wind_data.columns.array)\n",
    "\n",
    "wind_data = wind_data._append(test)\n",
    "wind_data.reset_index(inplace=True)\n",
    "wind_data.drop(columns={'index'},inplace=True)\n",
    "\n",
    "#4/8\n",
    "k4 = int(366*0.0234)\n",
    "x = np.zeros(shape=[k4,5])\n",
    "x[0:,4] = 130\n",
    "test = pd.DataFrame(data=x[0:,0:],index=range(0,k4),columns=wind_data.columns.array)\n",
    "\n",
    "wind_data = wind_data._append(test)\n",
    "wind_data.reset_index(inplace=True)\n",
    "wind_data.drop(columns={'index'},inplace=True)\n",
    "\n",
    "#5/8\n",
    "k5 = int(366*0.1912)\n",
    "x = np.zeros(shape=[k5,5])\n",
    "x[0:,4] = 170\n",
    "test = pd.DataFrame(data=x[0:,0:],index=range(0,k5),columns=wind_data.columns.array)\n",
    "\n",
    "wind_data = wind_data._append(test)\n",
    "wind_data.reset_index(inplace=True)\n",
    "wind_data.drop(columns={'index'},inplace=True)\n",
    "\n",
    "#6/8\n",
    "k6 = int(366*0.1917)\n",
    "x = np.zeros(shape=[k6,5])\n",
    "x[0:,4] = 220\n",
    "test = pd.DataFrame(data=x[0:,0:],index=range(0,k6),columns=wind_data.columns.array)\n",
    "\n",
    "wind_data = wind_data._append(test)\n",
    "wind_data.reset_index(inplace=True)\n",
    "wind_data.drop(columns={'index'},inplace=True)\n",
    "\n",
    "#7/8\n",
    "k7 = int(366*0.1281)\n",
    "x = np.zeros(shape=[k7,5])\n",
    "x[0:,4] = 260\n",
    "test = pd.DataFrame(data=x[0:,0:],index=range(0,k7),columns=wind_data.columns.array)\n",
    "\n",
    "wind_data = wind_data._append(test)\n",
    "wind_data.reset_index(inplace=True)\n",
    "wind_data.drop(columns={'index'},inplace=True)\n",
    "\n",
    "#8/8\n",
    "k8 = int(366*0.1028)\n",
    "x = np.zeros(shape=[k8,5])\n",
    "x[0:,4] = 310\n",
    "test = pd.DataFrame(data=x[0:,0:],index=range(0,k8),columns=wind_data.columns.array)\n",
    "\n",
    "wind_data = wind_data._append(test)\n",
    "wind_data.reset_index(inplace=True)\n",
    "wind_data.drop(columns={'index'},inplace=True)\n",
    "\n",
    "wind_data\n"
   ]
  },
  {
   "cell_type": "code",
   "execution_count": 174,
   "metadata": {},
   "outputs": [
    {
     "data": {
      "text/plain": [
       "723"
      ]
     },
     "execution_count": 174,
     "metadata": {},
     "output_type": "execute_result"
    }
   ],
   "source": [
    "np.count_nonzero(wind_data[wind_data['160'] == 0].index)"
   ]
  },
  {
   "cell_type": "code",
   "execution_count": 175,
   "metadata": {},
   "outputs": [
    {
     "data": {
      "text/plain": [
       "<NumpyExtensionArray>\n",
       "['160', '105', '120', '134', 'Mean Direction']\n",
       "Length: 5, dtype: object"
      ]
     },
     "execution_count": 175,
     "metadata": {},
     "output_type": "execute_result"
    }
   ],
   "source": [
    "wind_data.columns.array"
   ]
  },
  {
   "cell_type": "code",
   "execution_count": 176,
   "metadata": {},
   "outputs": [
    {
     "data": {
      "text/plain": [
       "<NumpyExtensionArray>\n",
       "['160', '105', '120', '134']\n",
       "Length: 4, dtype: object"
      ]
     },
     "execution_count": 176,
     "metadata": {},
     "output_type": "execute_result"
    }
   ],
   "source": [
    "columns = wind_data.columns.array\n",
    "arr_height = columns[[0,1,2,3]]\n",
    "arr_height"
   ]
  },
  {
   "cell_type": "code",
   "execution_count": 177,
   "metadata": {},
   "outputs": [],
   "source": [
    "arr_shape = np.ndarray(shape=(4,8))\n",
    "\n",
    "arr_scale =  np.ndarray(shape=(4,8))"
   ]
  },
  {
   "cell_type": "code",
   "execution_count": 178,
   "metadata": {},
   "outputs": [],
   "source": [
    "def visualisation(x,height,i):\n",
    "    sns.set_theme()\n",
    "    sns.set_style(rc = {'axes.facecolor': 'w'})\n",
    "\n",
    "\n",
    "    plt.rc('lines', linewidth=1.5, linestyle='-')\n",
    "    plt.rcParams['axes.prop_cycle'] = cycler(color=['#20202077',\n",
    "                                                '#029020dd',\n",
    "                                                '#FF8C00dd',\n",
    "                                                '#ff00ffcc',\n",
    "                                                '#2020ffdd']\n",
    "                                                # alpha=[1, 1, 1, 1, .7]\n",
    "                                            )\n",
    "\n",
    "    x.summary(plot=True, lw=2)\n",
    "\n",
    "    plt.gca().set_axisbelow(True)\n",
    "    plt.gca().grid(color='#cccccccc', linestyle=':', \n",
    "                linewidth=1.5, which='both')\n",
    "    #plt.gca().plot(color='blue')\n",
    "    plt.xlabel('Wind Speed (m/s)')\n",
    "    plt.ylabel('Density')\n",
    "    plt.plot(color='blue')\n",
    "    plt.savefig('%s/figures/fig_%s_%i.png' % (os.getcwd(),height,i))"
   ]
  },
  {
   "cell_type": "code",
   "execution_count": 179,
   "metadata": {},
   "outputs": [],
   "source": [
    "i = 0\n",
    "for height in arr_height:\n",
    "\n",
    "        # 1/8, bins=35\n",
    "        df = wind_data[((wind_data['Mean Direction']<22.5))]\n",
    "        df_2 = wind_data[(wind_data['Mean Direction'] > 337.5)]\n",
    "\n",
    "        wind_np_1 = df[height].to_numpy()\n",
    "        wind_np_2 = df_2[height].to_numpy()\n",
    "        wind_np = np.append(wind_np_1,wind_np_2)\n",
    "\n",
    "        f = Fitter(wind_np, distributions=['weibull_min'],bins=20)\n",
    "        f.fit()\n",
    "        visualisation(f,height,1)\n",
    "        arr_scale[i][0] = f.fitted_param['weibull_min'][0]\n",
    "        arr_shape[i][0] = f.fitted_param['weibull_min'][2]\n",
    "        \n",
    "\n",
    "        # 2/8, bins=24\n",
    "        df = wind_data[(wind_data['Mean Direction'] >22.5) & (wind_data['Mean Direction'] <=67.5)]\n",
    "        wind_np = df[height].to_numpy()\n",
    "\n",
    "        f = Fitter(wind_np, distributions=['weibull_min'],bins=20)\n",
    "        f.fit()\n",
    "        visualisation(f,height,2)\n",
    "        arr_scale[i][1] = f.fitted_param['weibull_min'][0]\n",
    "        arr_shape[i][1] = f.fitted_param['weibull_min'][2]\n",
    "\n",
    "        # 3/8, bins=21 # 67.5 - 112.5\n",
    "        df = wind_data[(wind_data['Mean Direction'] >67.5) & (wind_data['Mean Direction'] <=112.5)]\n",
    "        wind_np = df[height].to_numpy()\n",
    "\n",
    "        f = Fitter(wind_np, distributions=['weibull_min'],bins=20)\n",
    "        f.fit()\n",
    "        visualisation(f,height,3)\n",
    "        arr_scale[i][2] = f.fitted_param['weibull_min'][0]\n",
    "        arr_shape[i][2] = f.fitted_param['weibull_min'][2]\n",
    "\n",
    "        # 4/8, bins=20 # 112.5 - 157.5\n",
    "        df = wind_data[(wind_data['Mean Direction'] >112.5) & (wind_data['Mean Direction'] <=157.5)]\n",
    "        wind_np = df[height].to_numpy()\n",
    "\n",
    "        f = Fitter(wind_np, distributions=['weibull_min'],bins=20)\n",
    "        f.fit()\n",
    "        visualisation(f,height,4)\n",
    "        arr_scale[i][3] = f.fitted_param['weibull_min'][0]\n",
    "        arr_shape[i][3] = f.fitted_param['weibull_min'][2]\n",
    "\n",
    "        # 5/8, bins= 20 # 157.5 - 202.5\n",
    "        df = wind_data[(wind_data['Mean Direction'] >157.5) & (wind_data['Mean Direction'] <=202.5)]\n",
    "        wind_np = df[height].to_numpy()\n",
    "\n",
    "        f = Fitter(wind_np, distributions=['weibull_min'],bins=20)\n",
    "        f.fit()\n",
    "        visualisation(f,height,5)\n",
    "        arr_scale[i][4] = f.fitted_param['weibull_min'][0]\n",
    "        arr_shape[i][4] = f.fitted_param['weibull_min'][2]\n",
    "\n",
    "        # 6/8,bins=20 # 202.5 - 247.5\n",
    "        df = wind_data[(wind_data['Mean Direction'] >202.5) & (wind_data['Mean Direction'] <=247.5)]\n",
    "        wind_np = df[height].to_numpy()\n",
    "\n",
    "        f = Fitter(wind_np, distributions=['weibull_min'],bins=20)\n",
    "        f.fit()\n",
    "        visualisation(f,height,6)\n",
    "        arr_scale[i][5] = f.fitted_param['weibull_min'][0]\n",
    "        arr_shape[i][5] = f.fitted_param['weibull_min'][2]\n",
    "        \n",
    "        #  7/8,bins=42 # 247.5 - 292.5\n",
    "        df = wind_data[(wind_data['Mean Direction'] >247.5) & (wind_data['Mean Direction'] <=292.5)]\n",
    "        wind_np = df[height].to_numpy()\n",
    "\n",
    "        f = Fitter(wind_np, distributions=['weibull_min'],bins=20)\n",
    "        f.fit()\n",
    "        visualisation(f,height,7)\n",
    "        arr_scale[i][6] = f.fitted_param['weibull_min'][0]\n",
    "        arr_shape[i][6] = f.fitted_param['weibull_min'][2]\n",
    "\n",
    "        # 8/8, bins=30 # \n",
    "        df = wind_data[(wind_data['Mean Direction'] >292.5) & (wind_data['Mean Direction'] <=337.5)]\n",
    "        wind_np = df[height].to_numpy()\n",
    "\n",
    "        f = Fitter(wind_np, distributions=['weibull_min'],bins=20)\n",
    "        f.fit()\n",
    "        visualisation(f,height,8)\n",
    "        arr_scale[i][7] = f.fitted_param['weibull_min'][0]\n",
    "        arr_shape[i][7] = f.fitted_param['weibull_min'][2]\n",
    "\n",
    "        i=i+1"
   ]
  },
  {
   "cell_type": "code",
   "execution_count": 169,
   "metadata": {},
   "outputs": [
    {
     "data": {
      "text/plain": [
       "<NumpyExtensionArray>\n",
       "['160', '105', '120', '134']\n",
       "Length: 4, dtype: object"
      ]
     },
     "execution_count": 169,
     "metadata": {},
     "output_type": "execute_result"
    }
   ],
   "source": [
    "arr_height"
   ]
  },
  {
   "cell_type": "code",
   "execution_count": 170,
   "metadata": {},
   "outputs": [
    {
     "data": {
      "text/plain": [
       "array([[1.8199489 , 2.07313823, 1.56611087, 0.66631829, 3.3844962 ,\n",
       "        2.5958851 , 2.13144296, 2.06481169],\n",
       "       [1.84679714, 2.09227239, 1.57116374, 0.51627706, 3.37282677,\n",
       "        2.6077092 , 2.14643454, 2.07376451],\n",
       "       [1.84450664, 2.07892158, 1.56059918, 0.82791312, 3.37538463,\n",
       "        2.60908503, 2.1444285 , 2.06724591],\n",
       "       [1.81951198, 2.0866057 , 1.57033429, 0.16949108, 3.37518436,\n",
       "        2.60915119, 2.14551845, 2.06974196]])"
      ]
     },
     "execution_count": 170,
     "metadata": {},
     "output_type": "execute_result"
    }
   ],
   "source": [
    "arr_scale"
   ]
  },
  {
   "cell_type": "code",
   "execution_count": 171,
   "metadata": {},
   "outputs": [
    {
     "data": {
      "text/plain": [
       "array([[ 8.05453769,  8.86060848,  6.00585266,  4.74123428, 21.0204063 ,\n",
       "        16.77333807, 13.02227592, 10.51034132],\n",
       "       [ 7.66898197,  8.38270205,  5.67331504,  6.52531969, 19.77556374,\n",
       "        15.8388821 , 12.31431833,  9.93075338],\n",
       "       [ 7.83088998,  8.52326761,  5.76001372,  4.52547778, 20.20256578,\n",
       "        16.17618373, 12.56808713, 10.11512131],\n",
       "       [ 7.85156813,  8.67200944,  5.87788354,  4.269086  , 20.52148429,\n",
       "        16.43766239, 12.76833082, 10.28438759]])"
      ]
     },
     "execution_count": 171,
     "metadata": {},
     "output_type": "execute_result"
    }
   ],
   "source": [
    "arr_shape"
   ]
  },
  {
   "cell_type": "markdown",
   "metadata": {},
   "source": [
    "## Output"
   ]
  },
  {
   "cell_type": "code",
   "execution_count": 86,
   "metadata": {},
   "outputs": [],
   "source": [
    "\n",
    "        # 0: '160', 1:'105', 2:'120', 3:'134'\n",
    "        # arr_scale[0] acceses therefore turbine with height 60.\n",
    "        arr_scale = [[3.92121946e-01, 1.94889903e+00, 1.20786851e+00, 1.35592443e+00,\n",
    "        2.93133805e+00, 2.29210661e+00, 2.00461918e+00, 1.71882566e+00],\n",
    "       [2.95497141e-01, 1.94379540e+00, 1.21150870e+00, 1.34817449e+00,\n",
    "        2.93869639e+00, 2.29808800e+00, 2.00675576e+00, 1.72250535e+00],\n",
    "       [2.95332333e-01, 1.91446417e+00, 1.23353366e+00, 1.31454037e+00,\n",
    "        2.92995831e+00, 2.28945118e+00, 1.99018300e+00, 1.73384782e+00],\n",
    "       [5.97073335e-01, 5.05534606e+01, 2.52881099e-01, 6.71417823e+00,\n",
    "        1.59188532e+07, 1.57966673e-01, 8.33225582e-01, 7.57076615e-01]]\n",
    "\n",
    "        arr_shape = [[7.90580189e-01, 7.40325048e+00, 3.96014434e+00, 5.49453262e+00,\n",
    "        1.66388730e+01, 1.35633490e+01, 1.10289047e+01, 7.61278307e+00],\n",
    "       [1.35106671e+00, 7.55726665e+00, 4.06287200e+00, 5.59721331e+00,\n",
    "        1.70268656e+01, 1.38806991e+01, 1.12803292e+01, 7.79636699e+00],\n",
    "       [1.37307509e+00, 7.55943584e+00, 4.19680339e+00, 5.55732389e+00,\n",
    "        1.72479706e+01, 1.40567206e+01, 1.13685356e+01, 7.96510521e+00],\n",
    "       [1.82029111e+02, 4.83799253e+02, 2.07409832e+01, 6.76282397e+01,\n",
    "        1.50263579e+08, 9.90614578e+00, 1.93797057e+01, 1.64789570e+01]]"
   ]
  },
  {
   "cell_type": "code",
   "execution_count": null,
   "metadata": {},
   "outputs": [],
   "source": []
  }
 ],
 "metadata": {
  "kernelspec": {
   "display_name": "Python 3",
   "language": "python",
   "name": "python3"
  },
  "language_info": {
   "codemirror_mode": {
    "name": "ipython",
    "version": 3
   },
   "file_extension": ".py",
   "mimetype": "text/x-python",
   "name": "python",
   "nbconvert_exporter": "python",
   "pygments_lexer": "ipython3",
   "version": "3.11.6"
  }
 },
 "nbformat": 4,
 "nbformat_minor": 2
}
